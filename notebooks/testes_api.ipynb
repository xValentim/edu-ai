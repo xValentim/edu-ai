{
 "cells": [
  {
   "cell_type": "code",
   "execution_count": null,
   "metadata": {},
   "outputs": [],
   "source": [
    "import requests"
   ]
  },
  {
   "cell_type": "code",
   "execution_count": null,
   "metadata": {},
   "outputs": [],
   "source": [
    "# endpoint = \"http://localhost:8000/essay\"\n",
    "endpoint = \"https://edu-ai.fly.dev/essay\"\n",
    "\n",
    "data = {\n",
    "    \"id_essay\": \"1\",\n",
    "    \"path_essay\": \"https://fly.storage.tigris.dev/essays/redacao_1.jpg\",\n",
    "    \"subject\": \"Legalização das drogas no Brasil\",\n",
    "}"
   ]
  },
  {
   "cell_type": "code",
   "execution_count": null,
   "metadata": {},
   "outputs": [],
   "source": [
    "response = requests.post(endpoint, json=data)\n",
    "\n",
    "if response.status_code == 200:\n",
    "    print(\"success\")\n",
    "    print(response.json())\n",
    "else:\n",
    "    print(\"error\")\n",
    "    print(response.status_code)\n",
    "    print(response.text)"
   ]
  },
  {
   "cell_type": "code",
   "execution_count": null,
   "metadata": {},
   "outputs": [],
   "source": [
    "response.json()"
   ]
  },
  {
   "cell_type": "code",
   "execution_count": null,
   "metadata": {},
   "outputs": [],
   "source": [
    "\n",
    "endpoint = \"http://localhost:8000/vector-search-mock\"\n",
    "data = {\n",
    "    \"query\": \"Qual é o significado do termo eurocentrismo no contexto da história do Brasil?\",\n",
    "    \"k\": 5,\n",
    "}\n",
    "\n",
    "response = requests.post(endpoint, json=data)\n",
    "\n",
    "if response.status_code == 200:\n",
    "    print(\"success\")\n",
    "    print(response.json())\n",
    "else:\n",
    "    print(\"error\")\n",
    "    print(response.status_code)\n",
    "    print(response.text)"
   ]
  },
  {
   "cell_type": "code",
   "execution_count": null,
   "metadata": {},
   "outputs": [],
   "source": [
    "response.json()"
   ]
  },
  {
   "cell_type": "code",
   "execution_count": null,
   "metadata": {},
   "outputs": [],
   "source": []
  }
 ],
 "metadata": {
  "kernelspec": {
   "display_name": "env",
   "language": "python",
   "name": "python3"
  },
  "language_info": {
   "codemirror_mode": {
    "name": "ipython",
    "version": 3
   },
   "file_extension": ".py",
   "mimetype": "text/x-python",
   "name": "python",
   "nbconvert_exporter": "python",
   "pygments_lexer": "ipython3",
   "version": "3.10.11"
  }
 },
 "nbformat": 4,
 "nbformat_minor": 2
}
