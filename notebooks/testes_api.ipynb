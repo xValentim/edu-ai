{
 "cells": [
  {
   "cell_type": "code",
   "execution_count": 3,
   "metadata": {},
   "outputs": [],
   "source": [
    "import requests"
   ]
  },
  {
   "cell_type": "code",
   "execution_count": 4,
   "metadata": {},
   "outputs": [],
   "source": [
    "endpoint = \"https://edu-ai.fly.dev/essay\"\n",
    "\n",
    "data = {\n",
    "    \"id_essay\": 1,\n",
    "    \"path_essay\": \"https://fly.storage.tigris.dev/essays/redacao_1.jpg\",\n",
    "    \"subject\": \"Legalização das drogas no Brasil\",\n",
    "}"
   ]
  },
  {
   "cell_type": "code",
   "execution_count": 5,
   "metadata": {},
   "outputs": [
    {
     "name": "stdout",
     "output_type": "stream",
     "text": [
      "error\n",
      "502\n",
      "\n"
     ]
    }
   ],
   "source": [
    "response = requests.post(endpoint, json=data)\n",
    "\n",
    "if response.status_code == 200:\n",
    "    print(\"success\")\n",
    "    print(response.json())\n",
    "else:\n",
    "    print(\"error\")\n",
    "    print(response.status_code)\n",
    "    print(response.text)"
   ]
  },
  {
   "cell_type": "code",
   "execution_count": 8,
   "metadata": {},
   "outputs": [
    {
     "data": {
      "text/plain": [
       "[{'competencia_1_feedback': 'A redação apresenta um bom domínio da modalidade escrita formal da Língua Portuguesa, com poucos desvios gramaticais e de convenções da escrita. No entanto, há alguns desvios leves de gramática e convenções de escrita que não comprometem o sentido do texto.\\n\\n*   Exemplo: \"Historicamente, o mundo do trabalho foi dominado pelos homens, restando para as mulheres, principalmente o trabalho doméstico e de cuidado com a família.\" (frase longa e complexa, mas bem estruturada)\\n*   Exemplo: \"Sob essa ótica, percebe-se que a desigualdade social gerada pela ausência do amparo estatal para as camadas mais pobres da população ocasiona na aceitação de trabalhos mal remunerados e informais, principalmente pelas mulheres.\" (frase longa e complexa, mas com alguns desvios de pontuação)\\n*   Exemplo: \"É evidente, portanto, que medidas precisam ser tomadas para solucionar esse problema.\" (frase simples e clara)\\n\\nPara melhorar, o aluno pode trabalhar em:\\n\\n*   Reduzir a complexidade das frases longas e complexas, utilizando conectivos e pontuação adequados.\\n*   Revisar a pontuação em frases longas e complexas, utilizando vírgulas e pontos para separar as ideias.\\n*   Utilizar vocabulário mais preciso e adequado ao contexto, evitando gírias e marcas de oralidade.\\n\\nAlternativas de melhoria:\\n\\n*   Em vez de \"Historicamente, o mundo do trabalho foi dominado pelos homens, restando para as mulheres, principalmente o trabalho doméstico e de cuidado com a família.\", o aluno pode escrever: \"O mundo do trabalho foi historicamente dominado pelos homens, enquanto as mulheres se concentravam no trabalho doméstico e de cuidado com a família.\"\\n*   Em vez de \"Sob essa ótica, percebe-se que a desigualdade social gerada pela ausência do amparo estatal para as camadas mais pobres da população ocasiona na aceitação de trabalhos mal remunerados e informais, principalmente pelas mulheres.\", o aluno pode escrever: \"Sob essa ótica, é possível perceber que a desigualdade social gerada pela ausência do amparo estatal para as camadas mais pobres da população leva à aceitação de trabalhos mal remunerados e informais, principalmente pelas mulheres.\"\\n*   Em vez de \"É evidente, portanto, que medidas precisam ser tomadas para solucionar esse problema.\", o aluno pode escrever: \"Portanto, é evidente que medidas precisam ser tomadas para solucionar esse problema.\"',\n",
       "  'competencia_1_grade': 160,\n",
       "  'competencia_2_feedback': 'A redação apresenta uma boa compreensão da proposta de redação e desenvolve o tema por meio de argumentação consistente, utilizando conhecimentos de diferentes áreas, como a literatura e a Constituição Federal. No entanto, há espaço para melhoria na profundidade e complexidade da argumentação.\\n\\n* A redação apresenta uma boa estrutura, com introdução, desenvolvimento e conclusão, e utiliza exemplos relevantes, como a obra de Carolina Maria de Jesus, para ilustrar a desigualdade social e o patriarcalismo.\\n* A argumentação é consistente e demonstra um bom domínio do tipo textual dissertativo-argumentativo, mas os argumentos não são bem desenvolvidos e não se limitam à reprodução das ideias dos textos motivadores nem se restringem a questões do senso comum.\\n* A redação poderia ser melhorada com a inclusão de mais exemplos e estatísticas para reforçar a argumentação e demonstrar uma compreensão mais profunda do tema.\\n* Além disso, a redação poderia beneficiar-se de uma maior análise crítica das causas e consequências da invisibilidade do trabalho de cuidado realizado pela mulher no Brasil, e de uma discussão mais aprofundada sobre as soluções propostas.\\n\\nPara melhorar, o aluno poderia:\\n\\n* Incluir mais exemplos e estatísticas para reforçar a argumentação e demonstrar uma compreensão mais profunda do tema.\\n* Desenvolver uma análise crítica mais aprofundada das causas e consequências da invisibilidade do trabalho de cuidado realizado pela mulher no Brasil.\\n* Discutir mais aprofundadamente as soluções propostas e apresentar alternativas mais concretas e viáveis.\\n* Utilizar uma linguagem mais clara e concisa, evitando a repetição de ideias e a utilização de termos técnicos desnecessários.',\n",
       "  'competencia_2_grade': 160,\n",
       "  'competencia_3_feedback': 'A redação apresenta informações, fatos e opiniões relacionados ao tema de forma organizada, demonstrando indícios de autoria ao desenvolver uma defesa clara de um ponto de vista. O autor seleciona, organiza e relaciona informações, fatos, opiniões e argumentos pertinentes ao tema proposto de forma consistente, em defesa de seu ponto de vista.\\n\\n* O autor apresenta uma introdução clara e concisa, estabelecendo o contexto histórico e social do tema.\\n* A análise da desigualdade social como um dos desafios a ser enfrentado para minimizar a invisibilidade do trabalho de cuidado realizado pela mulher no Brasil é bem desenvolvida e apoiada por exemplos literários.\\n* A discussão sobre o patriarcalismo enraizado na sociedade brasileira como outro fator que contribui para a falta de visibilidade do trabalho de cuidado desempenhado pela mulher no país é também bem argumentada.\\n* O autor apresenta uma conclusão clara e concisa, destacando a necessidade de medidas para solucionar o problema.\\n\\nNo entanto, a redação poderia ser melhorada em alguns aspectos:\\n\\n* A transição entre as ideias poderia ser mais suave, com frases de ligação mais claras.\\n* Alguns argumentos poderiam ser mais desenvolvidos e apoiados por exemplos concretos.\\n* A linguagem poderia ser mais variada e menos formal em alguns momentos.\\n\\nPara melhorar, o autor poderia:\\n\\n* Revisar a estrutura da redação para garantir uma transição mais suave entre as ideias.\\n* Desenvolver mais alguns argumentos e apoiá-los com exemplos concretos.\\n* Variedade a linguagem para torná-la mais interessante e menos formal.',\n",
       "  'competencia_3_grade': 160,\n",
       "  'competencia_4_feedback': 'A redação apresenta uma boa articulação entre as partes, com uso adequado de recursos linguísticos, como operadores argumentativos, modalizadores e conectivos. No entanto, há algumas inadequações na utilização desses recursos, o que justifica a nota 160.\\n\\n*   A redação apresenta uma boa estrutura lógica, com introdução, desenvolvimento e conclusão, e utiliza conectivos como \"Com efeito\", \"Diante desse cenário\", \"Em uma primeira análise\" e \"Outrossim\" para articular as ideias.\\n*   O uso de operadores argumentativos, como \"é fundamental\", \"é preciso\" e \"é evidente\", ajuda a reforçar a argumentação e a apresentar as ideias de forma clara.\\n*   No entanto, há alguns exemplos de uso inadequado de recursos coesivos, como a repetição desnecessária de palavras e a falta de variedade em alguns trechos.\\n*   Além disso, a redação poderia ser melhorada com o uso de mais recursos coesivos, como a utilização de pronomes relativos e a substituição de palavras por sinônimos.\\n\\nPara melhorar, o aluno pode trabalhar em:\\n\\n*   Variedade de recursos coesivos: o aluno pode trabalhar em utilizar mais recursos coesivos, como pronomes relativos, sinônimos e antônimos, para evitar a repetição desnecessária de palavras e tornar a redação mais interessante.\\n*   Uso adequado de conectivos: o aluno pode trabalhar em utilizar conectivos de forma mais adequada, como \"no entanto\", \"por outro lado\" e \"além disso\", para articular as ideias de forma mais clara e lógica.\\n*   Revisão e edição: o aluno pode trabalhar em revisar e editar a redação para evitar erros de ortografia, gramática e pontuação, e para melhorar a clareza e a coesão do texto.',\n",
       "  'competencia_4_grade': 160,\n",
       "  'competencia_5_feedback': 'A proposta de intervenção apresentada pelo candidato é bem elaborada e relacionada ao tema, articulada à discussão do texto. O candidato propõe que o Congresso Nacional elabore leis específicas para assegurar a visibilidade do trabalho de cuidado exercente no país, com a regulamentação de direitos trabalhistas para essa categoria. Essa proposta é viável e ética, pois busca garantir direitos trabalhistas para as mulheres que realizam trabalho de cuidado, promovendo uma vida digna e justa.\\n\\nNo entanto, a proposta poderia ser mais detalhada e específica. Por exemplo, o candidato poderia sugerir a criação de um programa de apoio às trabalhadoras de cuidado, com a oferta de treinamento e capacitação para melhorar suas habilidades e conhecimentos. Além disso, a proposta poderia incluir a criação de um sistema de monitoramento e avaliação para garantir que as leis sejam implementadas de forma eficaz.\\n\\nPara melhorar, o candidato poderia considerar as seguintes sugestões:\\n\\n* Ser mais específico sobre as leis e políticas que precisam ser criadas para assegurar a visibilidade do trabalho de cuidado.\\n* Incluir exemplos concretos de como as leis e políticas podem ser implementadas e monitoradas.\\n* Considerar a criação de programas de apoio às trabalhadoras de cuidado, como treinamento e capacitação.\\n* Incluir a perspectiva de outras partes interessadas, como as organizações de mulheres e as comunidades locais, para garantir que a proposta seja mais inclusiva e eficaz.',\n",
       "  'competencia_5_grade': 160},\n",
       " {'id_essay': 1},\n",
       " {'raw_feedback': '## Tema da redação: A invisibilidade do trabalho de cuidado realizado pela mulher no Brasil\\n\\n## Nota total: 800\\n\\n## Competência 1 - Nota: 160\\n\\nA redação apresenta um bom domínio da modalidade escrita formal da Língua Portuguesa, com poucos desvios gramaticais e de convenções da escrita. No entanto, há alguns desvios leves de gramática e convenções de escrita que não comprometem o sentido do texto.\\n\\n*   Exemplo: \"Historicamente, o mundo do trabalho foi dominado pelos homens, restando para as mulheres, principalmente o trabalho doméstico e de cuidado com a família.\" (frase longa e complexa, mas bem estruturada)\\n*   Exemplo: \"Sob essa ótica, percebe-se que a desigualdade social gerada pela ausência do amparo estatal para as camadas mais pobres da população ocasiona na aceitação de trabalhos mal remunerados e informais, principalmente pelas mulheres.\" (frase longa e complexa, mas com alguns desvios de pontuação)\\n*   Exemplo: \"É evidente, portanto, que medidas precisam ser tomadas para solucionar esse problema.\" (frase simples e clara)\\n\\nPara melhorar, o aluno pode trabalhar em:\\n\\n*   Reduzir a complexidade das frases longas e complexas, utilizando conectivos e pontuação adequados.\\n*   Revisar a pontuação em frases longas e complexas, utilizando vírgulas e pontos para separar as ideias.\\n*   Utilizar vocabulário mais preciso e adequado ao contexto, evitando gírias e marcas de oralidade.\\n\\nAlternativas de melhoria:\\n\\n*   Em vez de \"Historicamente, o mundo do trabalho foi dominado pelos homens, restando para as mulheres, principalmente o trabalho doméstico e de cuidado com a família.\", o aluno pode escrever: \"O mundo do trabalho foi historicamente dominado pelos homens, enquanto as mulheres se concentravam no trabalho doméstico e de cuidado com a família.\"\\n*   Em vez de \"Sob essa ótica, percebe-se que a desigualdade social gerada pela ausência do amparo estatal para as camadas mais pobres da população ocasiona na aceitação de trabalhos mal remunerados e informais, principalmente pelas mulheres.\", o aluno pode escrever: \"Sob essa ótica, é possível perceber que a desigualdade social gerada pela ausência do amparo estatal para as camadas mais pobres da população leva à aceitação de trabalhos mal remunerados e informais, principalmente pelas mulheres.\"\\n*   Em vez de \"É evidente, portanto, que medidas precisam ser tomadas para solucionar esse problema.\", o aluno pode escrever: \"Portanto, é evidente que medidas precisam ser tomadas para solucionar esse problema.\"\\n\\n## Competência 2 - Nota: 160\\n\\nA redação apresenta uma boa compreensão da proposta de redação e desenvolve o tema por meio de argumentação consistente, utilizando conhecimentos de diferentes áreas, como a literatura e a Constituição Federal. No entanto, há espaço para melhoria na profundidade e complexidade da argumentação.\\n\\n* A redação apresenta uma boa estrutura, com introdução, desenvolvimento e conclusão, e utiliza exemplos relevantes, como a obra de Carolina Maria de Jesus, para ilustrar a desigualdade social e o patriarcalismo.\\n* A argumentação é consistente e demonstra um bom domínio do tipo textual dissertativo-argumentativo, mas os argumentos não são bem desenvolvidos e não se limitam à reprodução das ideias dos textos motivadores nem se restringem a questões do senso comum.\\n* A redação poderia ser melhorada com a inclusão de mais exemplos e estatísticas para reforçar a argumentação e demonstrar uma compreensão mais profunda do tema.\\n* Além disso, a redação poderia beneficiar-se de uma maior análise crítica das causas e consequências da invisibilidade do trabalho de cuidado realizado pela mulher no Brasil, e de uma discussão mais aprofundada sobre as soluções propostas.\\n\\nPara melhorar, o aluno poderia:\\n\\n* Incluir mais exemplos e estatísticas para reforçar a argumentação e demonstrar uma compreensão mais profunda do tema.\\n* Desenvolver uma análise crítica mais aprofundada das causas e consequências da invisibilidade do trabalho de cuidado realizado pela mulher no Brasil.\\n* Discutir mais aprofundadamente as soluções propostas e apresentar alternativas mais concretas e viáveis.\\n* Utilizar uma linguagem mais clara e concisa, evitando a repetição de ideias e a utilização de termos técnicos desnecessários.\\n\\n## Competência 3 - Nota: 160\\n\\nA redação apresenta informações, fatos e opiniões relacionados ao tema de forma organizada, demonstrando indícios de autoria ao desenvolver uma defesa clara de um ponto de vista. O autor seleciona, organiza e relaciona informações, fatos, opiniões e argumentos pertinentes ao tema proposto de forma consistente, em defesa de seu ponto de vista.\\n\\n* O autor apresenta uma introdução clara e concisa, estabelecendo o contexto histórico e social do tema.\\n* A análise da desigualdade social como um dos desafios a ser enfrentado para minimizar a invisibilidade do trabalho de cuidado realizado pela mulher no Brasil é bem desenvolvida e apoiada por exemplos literários.\\n* A discussão sobre o patriarcalismo enraizado na sociedade brasileira como outro fator que contribui para a falta de visibilidade do trabalho de cuidado desempenhado pela mulher no país é também bem argumentada.\\n* O autor apresenta uma conclusão clara e concisa, destacando a necessidade de medidas para solucionar o problema.\\n\\nNo entanto, a redação poderia ser melhorada em alguns aspectos:\\n\\n* A transição entre as ideias poderia ser mais suave, com frases de ligação mais claras.\\n* Alguns argumentos poderiam ser mais desenvolvidos e apoiados por exemplos concretos.\\n* A linguagem poderia ser mais variada e menos formal em alguns momentos.\\n\\nPara melhorar, o autor poderia:\\n\\n* Revisar a estrutura da redação para garantir uma transição mais suave entre as ideias.\\n* Desenvolver mais alguns argumentos e apoiá-los com exemplos concretos.\\n* Variedade a linguagem para torná-la mais interessante e menos formal.\\n\\n## Competência 4 - Nota: 160\\n\\nA redação apresenta uma boa articulação entre as partes, com uso adequado de recursos linguísticos, como operadores argumentativos, modalizadores e conectivos. No entanto, há algumas inadequações na utilização desses recursos, o que justifica a nota 160.\\n\\n*   A redação apresenta uma boa estrutura lógica, com introdução, desenvolvimento e conclusão, e utiliza conectivos como \"Com efeito\", \"Diante desse cenário\", \"Em uma primeira análise\" e \"Outrossim\" para articular as ideias.\\n*   O uso de operadores argumentativos, como \"é fundamental\", \"é preciso\" e \"é evidente\", ajuda a reforçar a argumentação e a apresentar as ideias de forma clara.\\n*   No entanto, há alguns exemplos de uso inadequado de recursos coesivos, como a repetição desnecessária de palavras e a falta de variedade em alguns trechos.\\n*   Além disso, a redação poderia ser melhorada com o uso de mais recursos coesivos, como a utilização de pronomes relativos e a substituição de palavras por sinônimos.\\n\\nPara melhorar, o aluno pode trabalhar em:\\n\\n*   Variedade de recursos coesivos: o aluno pode trabalhar em utilizar mais recursos coesivos, como pronomes relativos, sinônimos e antônimos, para evitar a repetição desnecessária de palavras e tornar a redação mais interessante.\\n*   Uso adequado de conectivos: o aluno pode trabalhar em utilizar conectivos de forma mais adequada, como \"no entanto\", \"por outro lado\" e \"além disso\", para articular as ideias de forma mais clara e lógica.\\n*   Revisão e edição: o aluno pode trabalhar em revisar e editar a redação para evitar erros de ortografia, gramática e pontuação, e para melhorar a clareza e a coesão do texto.\\n\\n## Competência 5 - Nota: 160\\n\\nA proposta de intervenção apresentada pelo candidato é bem elaborada e relacionada ao tema, articulada à discussão do texto. O candidato propõe que o Congresso Nacional elabore leis específicas para assegurar a visibilidade do trabalho de cuidado exercente no país, com a regulamentação de direitos trabalhistas para essa categoria. Essa proposta é viável e ética, pois busca garantir direitos trabalhistas para as mulheres que realizam trabalho de cuidado, promovendo uma vida digna e justa.\\n\\nNo entanto, a proposta poderia ser mais detalhada e específica. Por exemplo, o candidato poderia sugerir a criação de um programa de apoio às trabalhadoras de cuidado, com a oferta de treinamento e capacitação para melhorar suas habilidades e conhecimentos. Além disso, a proposta poderia incluir a criação de um sistema de monitoramento e avaliação para garantir que as leis sejam implementadas de forma eficaz.\\n\\nPara melhorar, o candidato poderia considerar as seguintes sugestões:\\n\\n* Ser mais específico sobre as leis e políticas que precisam ser criadas para assegurar a visibilidade do trabalho de cuidado.\\n* Incluir exemplos concretos de como as leis e políticas podem ser implementadas e monitoradas.\\n* Considerar a criação de programas de apoio às trabalhadoras de cuidado, como treinamento e capacitação.\\n* Incluir a perspectiva de outras partes interessadas, como as organizações de mulheres e as comunidades locais, para garantir que a proposta seja mais inclusiva e eficaz.'}]"
      ]
     },
     "execution_count": 8,
     "metadata": {},
     "output_type": "execute_result"
    }
   ],
   "source": [
    "response.json()"
   ]
  },
  {
   "cell_type": "code",
   "execution_count": null,
   "metadata": {},
   "outputs": [],
   "source": []
  }
 ],
 "metadata": {
  "kernelspec": {
   "display_name": "env",
   "language": "python",
   "name": "python3"
  },
  "language_info": {
   "codemirror_mode": {
    "name": "ipython",
    "version": 3
   },
   "file_extension": ".py",
   "mimetype": "text/x-python",
   "name": "python",
   "nbconvert_exporter": "python",
   "pygments_lexer": "ipython3",
   "version": "3.9.5"
  }
 },
 "nbformat": 4,
 "nbformat_minor": 2
}
